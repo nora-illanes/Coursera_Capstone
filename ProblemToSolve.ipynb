{
 "cells": [
  {
   "cell_type": "markdown",
   "metadata": {},
   "source": [
    "<h1 style=\"color:green\">The toddlers are coming to town<h1>\n",
    "    <p style=\"font-size:70%\">The population in Berlin growing. Not only due to newcomers, but also babies.<br>This posses a challenge to the federal state government: <a href=\"https://www.thelocal.de/20180524/how-a-childcare-crisis-is-leaving-berlin-parents-stuck-at-home-with-their-kids\">there is an urgent need for more kindergartens<a>, in German <b>\"Kitas\"</b> <br> In this city, which is also a federal state, the Government covers 100% of the costs of a full-day preschool care center. The demand for a place in those institutions is huge!<p>"
   ]
  },
  {
   "cell_type": "markdown",
   "metadata": {},
   "source": [
    "<p>My target is public service: How the local government can solve the <b>Kitas</b> issue.<br>The first source of problem is urgency: constructions take too long. In my street, an old crumbling Thai-massage spot going bankrupt was turned into a <b>Kita</b>. <p> \n",
    "    <p style=\"color:red\"> I propose renting places in the ground floor of already existing buildings.<p><p>The problem is precisely <a href=\"https://www.handelsblatt.com/today/finance/room-wanted-as-property-booms-berlin-is-a-victim-of-its-own-success/23583224.html?ticket=ST-1343105-WecHVefGJ7RVaXD5Kl0L-ap6\">the price </a> for a city that struggles with public debt. <p>"
   ]
  },
  {
   "cell_type": "markdown",
   "metadata": {},
   "source": [
    "<p style=\"color:green; font-size:130%\"> It is not the \"How\" it is the \"Where\" to solve it<p>"
   ]
  },
  {
   "cell_type": "code",
   "execution_count": 3,
   "metadata": {},
   "outputs": [
    {
     "data": {
      "text/html": [
       "<iframe width=\"560\"  height=\"315\" src=\"https://hendrik-lehmann.carto.com/viz/47585422-f92b-11e6-9570-0e8c56e2ffdb/embed_map\"></iframe>"
      ],
      "text/plain": [
       "<IPython.core.display.HTML object>"
      ]
     },
     "execution_count": 3,
     "metadata": {},
     "output_type": "execute_result"
    }
   ],
   "source": [
    "from IPython.display import HTML\n",
    "HTML('<iframe width=\"560\"  height=\"315\" src=\"https://hendrik-lehmann.carto.com/viz/47585422-f92b-11e6-9570-0e8c56e2ffdb/embed_map\"></iframe>')"
   ]
  },
  {
   "cell_type": "markdown",
   "metadata": {},
   "source": [
    "The darker the region, the higher the population under 27. <i>Map by Hendrik Lehman<i>"
   ]
  },
  {
   "cell_type": "markdown",
   "metadata": {},
   "source": [
    "From all 12 Borroughs, there is some that need <b>Kitas</b> more than others. Following this principal, we can look into 4 main features to select the <u>most urgent Borroughs<u>."
   ]
  },
  {
   "cell_type": "markdown",
   "metadata": {},
   "source": [
    "<ol style=\"color:green; font-size:110%\">\n",
    "  <li>Number younger women (below 40)</li>\n",
    "  <li>Number of buildings</li>\n",
    "  <li>% of children from total population</li>\n",
    "  <li>Car accidents</li>\n",
    "</ol>  \n",
    "Of course the car accidents will have less to do with the birth rate, not everything weighs the same. But an unsafe spot is no place for a pre-school institution."
   ]
  },
  {
   "cell_type": "markdown",
   "metadata": {},
   "source": [
    "Neighboring Borroughs may host toddlers from other Borroughs. Where there are higher (2) and less (4). The less urgent areas or <u>hosting Borroughs</u> are made up by Borroughs closest to urgent areas, which have high (3) and low (4). "
   ]
  },
  {
   "cell_type": "markdown",
   "metadata": {},
   "source": [
    "Here we explore the correlation between number of buildings and car accidents, or younger women and population aged 0-6. Do young people tend to leave in highly constructed areas? Do pre-school aged children are correlated to number of young women or rather to income? We are not looking at income here, but just to be clear that not always higher NUMBER of young women reflects in higher PERCENTAGE of population in pre-school."
   ]
  },
  {
   "cell_type": "markdown",
   "metadata": {},
   "source": [
    "From the 12 Borroughs we focus on the most urgent Borroughs and hosting Borroughs, which we call from now on <u>Areas</u>. This new set of Borroughs will be explores using the Postal Codes. 2 main features to look at are:"
   ]
  },
  {
   "cell_type": "markdown",
   "metadata": {},
   "source": [
    "<ol type=\"a\" style=\"color:green; font-size:110%\">\n",
    "    <li>Parks and Playgrounds</li>\n",
    "    <li>Rent prices</li>\n",
    "</ol>"
   ]
  },
  {
   "cell_type": "markdown",
   "metadata": {},
   "source": [
    "We get (1) for each Area from foursquare. From here we need their address. Toddlers and young children in Berlin usually use these in their <b>Kita</b> time, specially in heavily constructed areas. "
   ]
  },
  {
   "cell_type": "markdown",
   "metadata": {},
   "source": [
    "Finally, for each of the address we explore (2), how expensive is to rent there. "
   ]
  },
  {
   "cell_type": "markdown",
   "metadata": {},
   "source": [
    "<p style=\"color:green; font-size:120%\"> Conclusion: the best places for <b> Kitas</b> are the cheapest and greener! We prioritize <u>urgent Borroughs</u>, backed by <u>hosting Borroughs</u>.<p>"
   ]
  }
 ],
 "metadata": {
  "kernelspec": {
   "display_name": "Python 3",
   "language": "python",
   "name": "python3"
  },
  "language_info": {
   "codemirror_mode": {
    "name": "ipython",
    "version": 3
   },
   "file_extension": ".py",
   "mimetype": "text/x-python",
   "name": "python",
   "nbconvert_exporter": "python",
   "pygments_lexer": "ipython3",
   "version": "3.6.8"
  }
 },
 "nbformat": 4,
 "nbformat_minor": 2
}
