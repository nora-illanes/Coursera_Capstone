{
 "cells": [
  {
   "cell_type": "markdown",
   "metadata": {},
   "source": [
    "<h1 style=\"color:green\">DATA The toddlers are coming to town<h1>\n",
    "    \n",
    "    "
   ]
  },
  {
   "cell_type": "code",
   "execution_count": 1,
   "metadata": {},
   "outputs": [],
   "source": [
    "import pandas as pd\n",
    "import numpy as np\n",
    "import requests"
   ]
  },
  {
   "cell_type": "code",
   "execution_count": 2,
   "metadata": {
    "collapsed": false
   },
   "outputs": [
    {
     "data": {
      "text/html": [
       "<div>\n",
       "<style scoped>\n",
       "    .dataframe tbody tr th:only-of-type {\n",
       "        vertical-align: middle;\n",
       "    }\n",
       "\n",
       "    .dataframe tbody tr th {\n",
       "        vertical-align: top;\n",
       "    }\n",
       "\n",
       "    .dataframe thead th {\n",
       "        text-align: right;\n",
       "    }\n",
       "</style>\n",
       "<table border=\"1\" class=\"dataframe\">\n",
       "  <thead>\n",
       "    <tr style=\"text-align: right;\">\n",
       "      <th></th>\n",
       "      <th>Boroughs</th>\n",
       "      <th>Neighborhoods</th>\n",
       "    </tr>\n",
       "  </thead>\n",
       "  <tbody>\n",
       "    <tr>\n",
       "      <th>0</th>\n",
       "      <td>Charlottenburg-Wilmersdorf</td>\n",
       "      <td>Charlottenburg Charlottenburg-Nord Grunewald H...</td>\n",
       "    </tr>\n",
       "    <tr>\n",
       "      <th>1</th>\n",
       "      <td>Friedrichshain-Kreuzberg</td>\n",
       "      <td>Friedrichshain Kreuzberg</td>\n",
       "    </tr>\n",
       "    <tr>\n",
       "      <th>2</th>\n",
       "      <td>Lichtenberg</td>\n",
       "      <td>Alt-Hohenschönhausen Falkenberg Fennpfuhl Frie...</td>\n",
       "    </tr>\n",
       "    <tr>\n",
       "      <th>3</th>\n",
       "      <td>Marzahn-Hellersdorf</td>\n",
       "      <td>Biesdorf Hellersdorf Kaulsdorf Mahlsdorf Marzahn</td>\n",
       "    </tr>\n",
       "    <tr>\n",
       "      <th>4</th>\n",
       "      <td>Mitte</td>\n",
       "      <td>Gesundbrunnen Hansaviertel Mitte Moabit Tierga...</td>\n",
       "    </tr>\n",
       "  </tbody>\n",
       "</table>\n",
       "</div>"
      ],
      "text/plain": [
       "                     Boroughs  \\\n",
       "0  Charlottenburg-Wilmersdorf   \n",
       "1    Friedrichshain-Kreuzberg   \n",
       "2                 Lichtenberg   \n",
       "3         Marzahn-Hellersdorf   \n",
       "4                       Mitte   \n",
       "\n",
       "                                       Neighborhoods  \n",
       "0  Charlottenburg Charlottenburg-Nord Grunewald H...  \n",
       "1                           Friedrichshain Kreuzberg  \n",
       "2  Alt-Hohenschönhausen Falkenberg Fennpfuhl Frie...  \n",
       "3   Biesdorf Hellersdorf Kaulsdorf Mahlsdorf Marzahn  \n",
       "4  Gesundbrunnen Hansaviertel Mitte Moabit Tierga...  "
      ]
     },
     "execution_count": 2,
     "metadata": {},
     "output_type": "execute_result"
    }
   ],
   "source": [
    "# path of data \n",
    "path=\"https://en.wikipedia.org/wiki/Boroughs_and_neighborhoods_of_Berlin\"\n",
    "\n",
    "#This will return a list of tables in the page. \n",
    "boroughs_berlin = pd.read_html(path)\n",
    "\n",
    "# We only need the third counting from the bottom\n",
    "boroughs_berlin[-3].columns=[\"Boroughs\",\"Neighborhoods\"]\n",
    "bouroughs_berlin=boroughs_berlin[-3]\n",
    "bouroughs_berlin.head()"
   ]
  },
  {
   "cell_type": "code",
   "execution_count": 3,
   "metadata": {},
   "outputs": [],
   "source": [
    "col_nr=range(1,11)\n",
    "postal_codes=pd.read_csv(\"./Postleitzahle.csv\", header=5, usecols=col_nr)"
   ]
  },
  {
   "cell_type": "markdown",
   "metadata": {},
   "source": [
    "<p style=\"font-size:110%\">The next data, postal codes, is from the administration of the city. It is a csv file, which I uploaded.<p> "
   ]
  },
  {
   "cell_type": "code",
   "execution_count": 4,
   "metadata": {},
   "outputs": [
    {
     "data": {
      "text/html": [
       "<div>\n",
       "<style scoped>\n",
       "    .dataframe tbody tr th:only-of-type {\n",
       "        vertical-align: middle;\n",
       "    }\n",
       "\n",
       "    .dataframe tbody tr th {\n",
       "        vertical-align: top;\n",
       "    }\n",
       "\n",
       "    .dataframe thead th {\n",
       "        text-align: right;\n",
       "    }\n",
       "</style>\n",
       "<table border=\"1\" class=\"dataframe\">\n",
       "  <thead>\n",
       "    <tr style=\"text-align: right;\">\n",
       "      <th></th>\n",
       "      <th>Borroughs</th>\n",
       "      <th>Unnamed: 2</th>\n",
       "      <th>Unnamed: 3</th>\n",
       "      <th>Unnamed: 4</th>\n",
       "      <th>Unnamed: 5</th>\n",
       "      <th>Unnamed: 6</th>\n",
       "      <th>Unnamed: 7</th>\n",
       "      <th>Unnamed: 8</th>\n",
       "      <th>Unnamed: 9</th>\n",
       "      <th>Unnamed: 10</th>\n",
       "    </tr>\n",
       "  </thead>\n",
       "  <tbody>\n",
       "    <tr>\n",
       "      <th>0</th>\n",
       "      <td>Mitte</td>\n",
       "      <td>10115</td>\n",
       "      <td>10117</td>\n",
       "      <td>10119</td>\n",
       "      <td>10178</td>\n",
       "      <td>10179</td>\n",
       "      <td>10435</td>\n",
       "      <td>10551</td>\n",
       "      <td>10553</td>\n",
       "      <td>10555</td>\n",
       "    </tr>\n",
       "    <tr>\n",
       "      <th>1</th>\n",
       "      <td></td>\n",
       "      <td>10559</td>\n",
       "      <td>10623</td>\n",
       "      <td>10785</td>\n",
       "      <td>10787</td>\n",
       "      <td>10963</td>\n",
       "      <td>10969</td>\n",
       "      <td>13347</td>\n",
       "      <td>13349</td>\n",
       "      <td>13351</td>\n",
       "    </tr>\n",
       "    <tr>\n",
       "      <th>2</th>\n",
       "      <td></td>\n",
       "      <td>13355</td>\n",
       "      <td>13357</td>\n",
       "      <td>13359</td>\n",
       "      <td>13405</td>\n",
       "      <td>13407</td>\n",
       "      <td>13409</td>\n",
       "      <td></td>\n",
       "      <td></td>\n",
       "      <td></td>\n",
       "    </tr>\n",
       "    <tr>\n",
       "      <th>3</th>\n",
       "      <td></td>\n",
       "      <td></td>\n",
       "      <td></td>\n",
       "      <td></td>\n",
       "      <td></td>\n",
       "      <td></td>\n",
       "      <td></td>\n",
       "      <td></td>\n",
       "      <td></td>\n",
       "      <td></td>\n",
       "    </tr>\n",
       "    <tr>\n",
       "      <th>4</th>\n",
       "      <td>Friedrichshain-</td>\n",
       "      <td>10179</td>\n",
       "      <td>10243</td>\n",
       "      <td>10245</td>\n",
       "      <td>10247</td>\n",
       "      <td>10249</td>\n",
       "      <td>10367</td>\n",
       "      <td>10785</td>\n",
       "      <td>10961</td>\n",
       "      <td>10963</td>\n",
       "    </tr>\n",
       "  </tbody>\n",
       "</table>\n",
       "</div>"
      ],
      "text/plain": [
       "         Borroughs Unnamed: 2 Unnamed: 3 Unnamed: 4 Unnamed: 5 Unnamed: 6  \\\n",
       "0            Mitte      10115      10117      10119      10178      10179   \n",
       "1                       10559      10623      10785      10787      10963   \n",
       "2                       13355      13357      13359      13405      13407   \n",
       "3                                                                           \n",
       "4  Friedrichshain-      10179      10243      10245      10247      10249   \n",
       "\n",
       "  Unnamed: 7 Unnamed: 8 Unnamed: 9 Unnamed: 10  \n",
       "0      10435      10551      10553       10555  \n",
       "1      10969      13347      13349       13351  \n",
       "2      13409                                    \n",
       "3                                               \n",
       "4      10367      10785      10961       10963  "
      ]
     },
     "execution_count": 4,
     "metadata": {},
     "output_type": "execute_result"
    }
   ],
   "source": [
    "#We take out the none values\n",
    "postal_codes.fillna(value=\"\", inplace=True)\n",
    "postal_codes.columns.values[0]=\"Borroughs\"\n",
    "postal_codes.head()"
   ]
  },
  {
   "cell_type": "code",
   "execution_count": 5,
   "metadata": {},
   "outputs": [
    {
     "data": {
      "text/html": [
       "<div>\n",
       "<style scoped>\n",
       "    .dataframe tbody tr th:only-of-type {\n",
       "        vertical-align: middle;\n",
       "    }\n",
       "\n",
       "    .dataframe tbody tr th {\n",
       "        vertical-align: top;\n",
       "    }\n",
       "\n",
       "    .dataframe thead th {\n",
       "        text-align: right;\n",
       "    }\n",
       "</style>\n",
       "<table border=\"1\" class=\"dataframe\">\n",
       "  <thead>\n",
       "    <tr style=\"text-align: right;\">\n",
       "      <th></th>\n",
       "      <th>Borroughs</th>\n",
       "      <th>Unnamed: 2</th>\n",
       "      <th>Unnamed: 3</th>\n",
       "      <th>Unnamed: 4</th>\n",
       "      <th>Unnamed: 5</th>\n",
       "      <th>Unnamed: 6</th>\n",
       "      <th>Unnamed: 7</th>\n",
       "      <th>Unnamed: 8</th>\n",
       "      <th>Unnamed: 9</th>\n",
       "      <th>Unnamed: 10</th>\n",
       "    </tr>\n",
       "  </thead>\n",
       "  <tbody>\n",
       "    <tr>\n",
       "      <th>0</th>\n",
       "      <td>Mitte</td>\n",
       "      <td>10115</td>\n",
       "      <td>10117</td>\n",
       "      <td>10119</td>\n",
       "      <td>10178</td>\n",
       "      <td>10179</td>\n",
       "      <td>10435</td>\n",
       "      <td>10551</td>\n",
       "      <td>10553</td>\n",
       "      <td>10555</td>\n",
       "    </tr>\n",
       "    <tr>\n",
       "      <th>1</th>\n",
       "      <td></td>\n",
       "      <td>10559</td>\n",
       "      <td>10623</td>\n",
       "      <td>10785</td>\n",
       "      <td>10787</td>\n",
       "      <td>10963</td>\n",
       "      <td>10969</td>\n",
       "      <td>13347</td>\n",
       "      <td>13349</td>\n",
       "      <td>13351</td>\n",
       "    </tr>\n",
       "  </tbody>\n",
       "</table>\n",
       "</div>"
      ],
      "text/plain": [
       "  Borroughs Unnamed: 2 Unnamed: 3 Unnamed: 4 Unnamed: 5 Unnamed: 6 Unnamed: 7  \\\n",
       "0     Mitte      10115      10117      10119      10178      10179      10435   \n",
       "1                10559      10623      10785      10787      10963      10969   \n",
       "\n",
       "  Unnamed: 8 Unnamed: 9 Unnamed: 10  \n",
       "0      10551      10553       10555  \n",
       "1      13347      13349       13351  "
      ]
     },
     "execution_count": 5,
     "metadata": {},
     "output_type": "execute_result"
    }
   ],
   "source": [
    "postal_codes.head(2)"
   ]
  },
  {
   "cell_type": "markdown",
   "metadata": {},
   "source": [
    "<p> As you see, there is some data preparation to be done in both tables, which we merge to get Borrough-Neighbourhoods-Post Codes in one table.<p>\n",
    "<p>We take the demographics from two sources: \n",
    "Unfortunately, both are PDF files.<p>"
   ]
  },
  {
   "cell_type": "markdown",
   "metadata": {},
   "source": [
    "<ol style=\"color:green; font-size:110%\">\n",
    "  <li>Number younger women (below 40)</li>\n",
    "  <li>Number of buildings</li>\n",
    "  <li>% of children from total population</li>\n",
    "  <li>Car accidents</li>\n",
    "</ol>  "
   ]
  },
  {
   "cell_type": "markdown",
   "metadata": {},
   "source": [
    "Number 2 and 4 are taken from the annual statistic book of Berlin."
   ]
  },
  {
   "cell_type": "markdown",
   "metadata": {},
   "source": [
    "Buildings|Traffic Accidents\n",
    "-|-\n",
    "![](BuildingBorroughs.png )|![](CarAccidents.png)"
   ]
  },
  {
   "cell_type": "markdown",
   "metadata": {},
   "source": [
    "Feature 1 and 3 are from another PDF source: The report on statistics for the first semester in 2018. It is a less extensive document and it is based on registrations in the of people in the city. The head of the table (shown below at the right) has the underline age category for children (red) and young women (yellow) when divided by gender."
   ]
  },
  {
   "cell_type": "markdown",
   "metadata": {},
   "source": [
    "Report|Demography for each Borrough\n",
    "-|-\n",
    "![](ReportRegistration.png )|![](Demography.png)"
   ]
  },
  {
   "cell_type": "markdown",
   "metadata": {},
   "source": [
    "For selected Borroughs we explore the area after parks and playground with Foursquare. The adrdress we get of the parl serve us to look for the rent price <a href=\"https://www.immowelt.de/immobilienpreise\">here<a> IN GERMAN."
   ]
  }
 ],
 "metadata": {
  "kernelspec": {
   "display_name": "Python 3",
   "language": "python",
   "name": "python3"
  },
  "language_info": {
   "codemirror_mode": {
    "name": "ipython",
    "version": 3
   },
   "file_extension": ".py",
   "mimetype": "text/x-python",
   "name": "python",
   "nbconvert_exporter": "python",
   "pygments_lexer": "ipython3",
   "version": "3.6.8"
  }
 },
 "nbformat": 4,
 "nbformat_minor": 2
}
